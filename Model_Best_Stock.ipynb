{
  "nbformat": 4,
  "nbformat_minor": 0,
  "metadata": {
    "colab": {
      "name": "Model_Best_Stock.ipynb",
      "provenance": [],
      "collapsed_sections": []
    },
    "kernelspec": {
      "name": "python3",
      "display_name": "Python 3"
    }
  },
  "cells": [
    {
      "cell_type": "code",
      "metadata": {
        "id": "UZlSYvW1F8im",
        "colab_type": "code",
        "colab": {}
      },
      "source": [
        "import os\n",
        "import numpy as np\n",
        "import pandas as pd\n",
        "import matplotlib.pyplot as plt"
      ],
      "execution_count": 0,
      "outputs": []
    },
    {
      "cell_type": "code",
      "metadata": {
        "id": "FGbWr7-qzS5T",
        "colab_type": "code",
        "colab": {}
      },
      "source": [
        "price_data = np.load('data/prices_for_best.npy')\n",
        "data_names = ['LINK_hourly.csv',\n",
        " 'HT_hourly.csv',\n",
        " 'OMG_hourly.csv',\n",
        " 'VEN_hourly.csv',\n",
        " 'MTL_hourly.csv',\n",
        " 'KNC_hourly.csv',\n",
        " 'REP_hourly.csv',\n",
        " 'IOST_hourly.csv',\n",
        " 'BTM_hourly.csv',\n",
        " 'ZRX_hourly.csv',\n",
        " 'AE_hourly.csv',\n",
        " 'NULS_hourly.csv',\n",
        " 'ELF_hourly.csv',\n",
        " 'ZIL_hourly.csv',\n",
        " 'KCS_hourly.csv',\n",
        " 'WTC_hourly.csv',\n",
        " 'BNT_hourly.csv',\n",
        " 'ITC_hourly.csv',\n",
        " 'NAS_hourly.csv',\n",
        " 'CVC_hourly.csv',\n",
        " 'ABT_hourly.csv',\n",
        " 'THETA_hourly.csv',\n",
        " 'HPB_hourly.csv',\n",
        " 'LUN_hourly.csv',\n",
        " 'ARN_hourly.csv']"
      ],
      "execution_count": 0,
      "outputs": []
    },
    {
      "cell_type": "code",
      "metadata": {
        "id": "Ic6kUW7dGVY_",
        "colab_type": "code",
        "outputId": "1c64bc69-1284-497e-a4fc-5871f24eff2f",
        "colab": {
          "base_uri": "https://localhost:8080/",
          "height": 265
        }
      },
      "source": [
        "# Initial portfolio value is set 1\n",
        "b = [1]\n",
        "# Iteration by days\n",
        "for i in range(658, round(price_data.shape[0]/24)-1):\n",
        "  t = i*24\n",
        "  # Iteration by tokens to find the best growth\n",
        "  relative_price_changes = []\n",
        "  for j in range(0, price_data.shape[1]):\n",
        "    if price_data[:,j][t-24] !=0:\n",
        "      relative_price_changes += [(price_data[:,j][t]-price_data[:,j][t-24])/price_data[:,j][t-24]]\n",
        "    else:\n",
        "      relative_price_changes += [-1]\n",
        "  best_token_index = np.argmax(relative_price_changes)\n",
        "  # Updating portfolio value\n",
        "  b += [b[i-658]*(price_data[:,best_token_index][t+24]/price_data[:,best_token_index][t])*0.9975]\n",
        "plt.plot(range(657, round(price_data.shape[0]/24)-1), b)\n",
        "np.save('port_value_best_transact', np.array(b))\n"
      ],
      "execution_count": 0,
      "outputs": [
        {
          "output_type": "display_data",
          "data": {
            "image/png": "[encoded data removed]",
            "text/plain": [
              "<Figure size 432x288 with 1 Axes>"
            ]
          },
          "metadata": {
            "tags": []
          }
        }
      ]
    },
    {
      "cell_type": "code",
      "metadata": {
        "id": "F_oU0qtN0fP3",
        "colab_type": "code",
        "colab": {}
      },
      "source": [
        ""
      ],
      "execution_count": 0,
      "outputs": []
    }
  ]
}