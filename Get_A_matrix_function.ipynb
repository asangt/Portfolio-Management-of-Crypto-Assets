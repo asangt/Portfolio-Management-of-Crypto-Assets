{
  "nbformat": 4,
  "nbformat_minor": 0,
  "metadata": {
    "colab": {
      "name": "Get_A_matrix_function.ipynb",
      "provenance": [],
      "collapsed_sections": []
    },
    "kernelspec": {
      "name": "python3",
      "display_name": "Python 3"
    }
  },
  "cells": [
    {
      "cell_type": "code",
      "metadata": {
        "id": "Zz9xwmvfou6y",
        "colab_type": "code",
        "colab": {}
      },
      "source": [
        "import os\n",
        "import numpy as np\n",
        "import pandas as pd"
      ],
      "execution_count": 0,
      "outputs": []
    },
    {
      "cell_type": "code",
      "metadata": {
        "id": "dYrbAtuwn5kR",
        "colab_type": "code",
        "colab": {}
      },
      "source": [
        "def get_At_matrix(data, data_names, t, n = 24, perc=10):\n",
        "  # Arrays with n samples for t moment of time \n",
        "  data_t = []\n",
        "  for i in range(len(data_names)):\n",
        "    data_t += [vol_data[:,i][int(t-n):t]]\n",
        "  data_t = np.array(data_t)\n",
        "  # List to collect names without _hourly.csv\n",
        "  crypto_names = []\n",
        "  # List to collect medians during the iteration over the array of volume sets\n",
        "  medians = []\n",
        "  for i in range(len(data_names)):\n",
        "    med = np.median(data_t[i])\n",
        "    crypto_names += [data_names[i][0:-11]]\n",
        "    medians += [med]\n",
        "  # List of medians' percentile values\n",
        "  scale =list(np.percentile(medians, np.arange(0, 101, perc)))\n",
        "  # Dictionary of segments, where keys are numbers of segments and values are names of tkens\n",
        "  # belonging to this segments\n",
        "  data = {}\n",
        "  # Loop for sorting cryptos into segments\n",
        "  for j in range(len(scale)-1):\n",
        "    temp = []\n",
        "    for i in range(len(medians)):\n",
        "      if medians[i] > scale[j] and medians[i] <= scale[j+1]:\n",
        "        temp += [crypto_names[i]]\n",
        "    data[j] = temp\n",
        "  data[0] +=min(crypto_names[np.argmin(medians)])\n",
        "  N = len(crypto_names)\n",
        "  A = np.zeros((N,N))\n",
        "  # Filling of the incidence matrix\n",
        "  for i in range(N):\n",
        "    for j in range(N):\n",
        "      for k in range(len(data.keys())):\n",
        "        if crypto_names[i]!=crypto_names[j]:\n",
        "          if crypto_names[i] in data[k] and crypto_names[j] in data[k]:\n",
        "            A[i][j]=1\n",
        "  return A"
      ],
      "execution_count": 0,
      "outputs": []
    },
    {
      "cell_type": "code",
      "metadata": {
        "id": "Koq5h72bosfF",
        "colab_type": "code",
        "colab": {}
      },
      "source": [
        "vol_data = np.load('data/Vol_file.npy')\n",
        "data_names = ['LINK_hourly.csv',\n",
        " 'HT_hourly.csv',\n",
        " 'OMG_hourly.csv',\n",
        " 'VEN_hourly.csv',\n",
        " 'MTL_hourly.csv',\n",
        " 'KNC_hourly.csv',\n",
        " 'REP_hourly.csv',\n",
        " 'IOST_hourly.csv',\n",
        " 'BTM_hourly.csv',\n",
        " 'ZRX_hourly.csv',\n",
        " 'AE_hourly.csv',\n",
        " 'NULS_hourly.csv',\n",
        " 'ELF_hourly.csv',\n",
        " 'ZIL_hourly.csv',\n",
        " 'KCS_hourly.csv',\n",
        " 'WTC_hourly.csv',\n",
        " 'BNT_hourly.csv',\n",
        " 'ITC_hourly.csv',\n",
        " 'NAS_hourly.csv',\n",
        " 'CVC_hourly.csv',\n",
        " 'ABT_hourly.csv',\n",
        " 'THETA_hourly.csv',\n",
        " 'HPB_hourly.csv',\n",
        " 'LUN_hourly.csv',\n",
        " 'ARN_hourly.csv']"
      ],
      "execution_count": 0,
      "outputs": []
    },
    {
      "cell_type": "code",
      "metadata": {
        "id": "7velBZ3Sn-kG",
        "colab_type": "code",
        "colab": {}
      },
      "source": [
        "# Get 24 month tensor of graphs\n",
        "A_volume_tensor = []\n",
        "for i in range(1,25):\n",
        "  t = i*round(vol_data.shape[0]/24)\n",
        "  n = round(vol_data.shape[0]/24)\n",
        "  A_volume = get_At_matrix(vol_data, data_names, t, n, perc=10)\n",
        "  A_volume_tensor += [A_volume.reshape(A_volume.shape[0], A_volume.shape[1], 1)]\n",
        "A_volume_tensor = np.concatenate(tuple(A_volume_tensor), axis = 2)"
      ],
      "execution_count": 0,
      "outputs": []
    },
    {
      "cell_type": "code",
      "metadata": {
        "id": "duoIxQFS74Ec",
        "colab_type": "code",
        "colab": {}
      },
      "source": [
        ""
      ],
      "execution_count": 0,
      "outputs": []
    }
  ]
}